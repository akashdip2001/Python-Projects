{
 "cells": [
  {
   "cell_type": "code",
   "execution_count": 2,
   "metadata": {},
   "outputs": [
    {
     "name": "stdout",
     "output_type": "stream",
     "text": [
      "Collecting buildozer\n",
      "  Downloading buildozer-1.5.0-py3-none-any.whl.metadata (139 kB)\n",
      "Collecting pexpect (from buildozer)\n",
      "  Downloading pexpect-4.9.0-py2.py3-none-any.whl.metadata (2.5 kB)\n",
      "Collecting virtualenv (from buildozer)\n",
      "  Downloading virtualenv-20.27.0-py3-none-any.whl.metadata (4.5 kB)\n",
      "Collecting sh (from buildozer)\n",
      "  Downloading sh-2.1.0-py3-none-any.whl.metadata (3.4 kB)\n",
      "Collecting ptyprocess>=0.5 (from pexpect->buildozer)\n",
      "  Downloading ptyprocess-0.7.0-py2.py3-none-any.whl.metadata (1.3 kB)\n",
      "Collecting distlib<1,>=0.3.7 (from virtualenv->buildozer)\n",
      "  Downloading distlib-0.3.9-py2.py3-none-any.whl.metadata (5.2 kB)\n",
      "Collecting filelock<4,>=3.12.2 (from virtualenv->buildozer)\n",
      "  Downloading filelock-3.16.1-py3-none-any.whl.metadata (2.9 kB)\n",
      "Requirement already satisfied: platformdirs<5,>=3.9.1 in c:\\users\\akash\\appdata\\roaming\\python\\python313\\site-packages (from virtualenv->buildozer) (4.3.6)\n",
      "Downloading buildozer-1.5.0-py3-none-any.whl (86 kB)\n",
      "Downloading pexpect-4.9.0-py2.py3-none-any.whl (63 kB)\n",
      "Downloading sh-2.1.0-py3-none-any.whl (38 kB)\n",
      "Downloading virtualenv-20.27.0-py3-none-any.whl (3.1 MB)\n",
      "   ---------------------------------------- 0.0/3.1 MB ? eta -:--:--\n",
      "   ------ --------------------------------- 0.5/3.1 MB 3.0 MB/s eta 0:00:01\n",
      "   ---------- ----------------------------- 0.8/3.1 MB 1.5 MB/s eta 0:00:02\n",
      "   ------------- -------------------------- 1.0/3.1 MB 1.4 MB/s eta 0:00:02\n",
      "   ------------- -------------------------- 1.0/3.1 MB 1.4 MB/s eta 0:00:02\n",
      "   ---------------- ----------------------- 1.3/3.1 MB 1.3 MB/s eta 0:00:02\n",
      "   -------------------- ------------------- 1.6/3.1 MB 1.2 MB/s eta 0:00:02\n",
      "   ----------------------- ---------------- 1.8/3.1 MB 1.2 MB/s eta 0:00:02\n",
      "   -------------------------- ------------- 2.1/3.1 MB 1.3 MB/s eta 0:00:01\n",
      "   ------------------------------ --------- 2.4/3.1 MB 1.2 MB/s eta 0:00:01\n",
      "   --------------------------------- ------ 2.6/3.1 MB 1.2 MB/s eta 0:00:01\n",
      "   ------------------------------------- -- 2.9/3.1 MB 1.2 MB/s eta 0:00:01\n",
      "   ------------------------------------- -- 2.9/3.1 MB 1.2 MB/s eta 0:00:01\n",
      "   ---------------------------------------- 3.1/3.1 MB 1.1 MB/s eta 0:00:00\n",
      "Downloading distlib-0.3.9-py2.py3-none-any.whl (468 kB)\n",
      "Downloading filelock-3.16.1-py3-none-any.whl (16 kB)\n",
      "Downloading ptyprocess-0.7.0-py2.py3-none-any.whl (13 kB)\n",
      "Installing collected packages: ptyprocess, distlib, sh, pexpect, filelock, virtualenv, buildozer\n",
      "Successfully installed buildozer-1.5.0 distlib-0.3.9 filelock-3.16.1 pexpect-4.9.0 ptyprocess-0.7.0 sh-2.1.0 virtualenv-20.27.0\n"
     ]
    }
   ],
   "source": [
    "!pip install buildozer"
   ]
  },
  {
   "cell_type": "code",
   "execution_count": 3,
   "metadata": {},
   "outputs": [
    {
     "name": "stdout",
     "output_type": "stream",
     "text": [
      "Collecting cython==0.29.19\n",
      "  Downloading Cython-0.29.19-py2.py3-none-any.whl.metadata (2.6 kB)\n",
      "Downloading Cython-0.29.19-py2.py3-none-any.whl (971 kB)\n",
      "   ---------------------------------------- 0.0/971.9 kB ? eta -:--:--\n",
      "   ---------------------------------------- 971.9/971.9 kB 7.2 MB/s eta 0:00:00\n",
      "Installing collected packages: cython\n",
      "Successfully installed cython-0.29.19\n"
     ]
    }
   ],
   "source": [
    "!pip install cython==0.29.19"
   ]
  },
  {
   "cell_type": "code",
   "execution_count": 4,
   "metadata": {},
   "outputs": [
    {
     "name": "stderr",
     "output_type": "stream",
     "text": [
      "'sudo' is not recognized as an internal or external command,\n",
      "operable program or batch file.\n"
     ]
    }
   ],
   "source": [
    "!sudo apt-get install -y \\\n",
    "    python3-pip \\\n",
    "    build-essential \\\n",
    "    git \\\n",
    "    python3 \\\n",
    "    python3-dev \\\n",
    "    ffmpeg \\\n",
    "    libsdl2-dev \\\n",
    "    libsdl2-image-dev \\\n",
    "    libsdl2-mixer-dev \\\n",
    "    libsdl2-ttf-dev \\\n",
    "    libportmidi-dev \\\n",
    "    libswscale-dev \\\n",
    "    libavformat-dev \\\n",
    "    libavcodec-dev \\\n",
    "    zlib1g-dev"
   ]
  },
  {
   "cell_type": "code",
   "execution_count": 5,
   "metadata": {},
   "outputs": [
    {
     "name": "stderr",
     "output_type": "stream",
     "text": [
      "'sudo' is not recognized as an internal or external command,\n",
      "operable program or batch file.\n"
     ]
    }
   ],
   "source": [
    "!sudo apt-get install build-essential libsqlite3-dev sqlite3 bzip2 libbz2-dev zlib1g-dev libssl-dev openssl libgdbm-dev libgdbm-compat-dev liblzma-dev libreadline-dev libncursesw5-dev libffi-dev uuid-dev libffi6"
   ]
  },
  {
   "cell_type": "code",
   "execution_count": null,
   "metadata": {},
   "outputs": [],
   "source": [
    "!sudo apt-get install libffi-dev"
   ]
  },
  {
   "cell_type": "markdown",
   "metadata": {},
   "source": [
    "#### After `!buildozer init` Your `main.py` must in same directory."
   ]
  },
  {
   "cell_type": "code",
   "execution_count": null,
   "metadata": {},
   "outputs": [],
   "source": [
    "!buildozer init"
   ]
  },
  {
   "cell_type": "code",
   "execution_count": null,
   "metadata": {},
   "outputs": [],
   "source": [
    "!buildozer -v android debug"
   ]
  },
  {
   "cell_type": "markdown",
   "metadata": {},
   "source": [
    "## error\n",
    "\n",
    "<img src=\"Screenshot (31).png\">\n",
    "\n",
    "It looks like you're encountering an error when trying to build an Android application using Buildozer and Python for Android (p4a) in Google Colab. Let's break down the issue and consider potential solutions.\n",
    "\n",
    "### Possible Issues and Solutions\n",
    "\n",
    "1. **Kivy and KivyMD Compatibility**:\n",
    "   - Ensure that the versions of Kivy and KivyMD you are using are compatible with each other. You are trying to use:\n",
    "     - `kivy==2.1.0`\n",
    "     - `kivymd==0.104.2`\n",
    "   - Check the [KivyMD documentation](https://kivymd.readthedocs.io/en/latest/) for the compatible Kivy version. Sometimes, using the latest version of one might not be compatible with the other.\n",
    "\n",
    "2. **Buildozer Configuration**:\n",
    "   - Ensure that your `buildozer.spec` file is correctly configured. You may need to specify the required permissions, application name, package name, and other settings correctly.\n",
    "\n",
    "3. **Android SDK and NDK Issues**:\n",
    "   - Verify that the Android SDK and NDK paths are set correctly and that the versions are compatible. You are currently using:\n",
    "     - `ANDROIDNDK = '/root/.buildozer/android/platform/android-ndk-r25b'`\n",
    "   - Make sure this NDK version is supported by the version of Python for Android you are using.\n",
    "\n",
    "4. **Environment Issues**:\n",
    "   - Google Colab may have limitations or specific configurations that might conflict with building Android applications. If possible, consider running your build on a local machine where you have more control over the environment.\n",
    "\n",
    "5. **Log Output**:\n",
    "   - The command you provided doesn't show the specific error. To get more detailed error logs, you might want to increase the verbosity of the output by adjusting the log level in your Buildozer command. You can do this by adding `--log_level=2` to your build command.\n",
    "\n",
    "6. **Try Different Python Version**:\n",
    "   - Sometimes specific versions of Python or dependencies might lead to conflicts. You can try changing the Python version in your Colab environment (if it allows) or check if the required versions are compatible with Python 3.x used in Colab.\n",
    "\n",
    "7. **Network and Permission Issues**:\n",
    "   - Ensure that there are no network restrictions preventing the downloading of required packages or dependencies during the build process. Sometimes, using a VPN or changing the network settings might help.\n",
    "\n",
    "### Recommended Steps\n",
    "\n",
    "1. **Check Compatibility**:\n",
    "   - Check the compatibility between Kivy and KivyMD versions.\n",
    "   \n",
    "2. **Verbose Logging**:\n",
    "   - Use verbose logging for more detailed error messages:\n",
    "     ```bash\n",
    "     buildozer -v android debug\n",
    "     ```\n",
    "\n",
    "3. **Reconfigure Buildozer Spec**:\n",
    "   - Revisit and adjust the `buildozer.spec` configuration file.\n",
    "\n",
    "4. **Local Environment**:\n",
    "   - If possible, try to run the build process locally instead of Google Colab.\n",
    "\n",
    "5. **Update Buildozer and Dependencies**:\n",
    "   - Make sure you are using the latest version of Buildozer and its dependencies.\n",
    "\n",
    "### Example Buildozer Command\n",
    "Here’s an example of how you can invoke Buildozer with increased verbosity:\n",
    "```bash\n",
    "buildozer -v android debug\n",
    "```\n",
    "\n",
    "If the problem persists, please provide additional error messages or the specific portion of the log where the error occurs, and I can help you troubleshoot further!"
   ]
  },
  {
   "cell_type": "code",
   "execution_count": null,
   "metadata": {},
   "outputs": [],
   "source": [
    "!buildozer android clean"
   ]
  }
 ],
 "metadata": {
  "kernelspec": {
   "display_name": "Python 3",
   "language": "python",
   "name": "python3"
  },
  "language_info": {
   "codemirror_mode": {
    "name": "ipython",
    "version": 3
   },
   "file_extension": ".py",
   "mimetype": "text/x-python",
   "name": "python",
   "nbconvert_exporter": "python",
   "pygments_lexer": "ipython3",
   "version": "3.13.0"
  }
 },
 "nbformat": 4,
 "nbformat_minor": 2
}
